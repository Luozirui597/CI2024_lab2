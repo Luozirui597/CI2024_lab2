{
 "cells": [],
 "metadata": {
  "kernelspec": {
   "display_name": "ci2024-lab1-kNKkX98_-py3.11",
   "language": "python",
   "name": "python3"
  },
  "language_info": {
   "name": "python",
   "version": "3.11.7"
  }
 },
 "nbformat": 4,
 "nbformat_minor": 2
}
