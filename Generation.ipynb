{
 "cells": [
  {
   "cell_type": "markdown",
   "metadata": {},
   "source": [
    "Simply trying on Italy(Generation)"
   ]
  },
  {
   "cell_type": "code",
   "execution_count": 31,
   "metadata": {},
   "outputs": [],
   "source": [
    "import logging\n",
    "from itertools import combinations\n",
    "import pandas as pd\n",
    "import numpy as np\n",
    "import random\n",
    "from geopy.distance import geodesic\n",
    "import networkx as nx\n",
    "from icecream import ic\n",
    "\n",
    "logging.basicConfig(level=logging.DEBUG)"
   ]
  },
  {
   "cell_type": "code",
   "execution_count": 32,
   "metadata": {},
   "outputs": [
    {
     "data": {
      "text/html": [
       "<div>\n",
       "<style scoped>\n",
       "    .dataframe tbody tr th:only-of-type {\n",
       "        vertical-align: middle;\n",
       "    }\n",
       "\n",
       "    .dataframe tbody tr th {\n",
       "        vertical-align: top;\n",
       "    }\n",
       "\n",
       "    .dataframe thead th {\n",
       "        text-align: right;\n",
       "    }\n",
       "</style>\n",
       "<table border=\"1\" class=\"dataframe\">\n",
       "  <thead>\n",
       "    <tr style=\"text-align: right;\">\n",
       "      <th></th>\n",
       "      <th>name</th>\n",
       "      <th>lat</th>\n",
       "      <th>lon</th>\n",
       "    </tr>\n",
       "  </thead>\n",
       "  <tbody>\n",
       "    <tr>\n",
       "      <th>0</th>\n",
       "      <td>Ancona</td>\n",
       "      <td>43.60</td>\n",
       "      <td>13.50</td>\n",
       "    </tr>\n",
       "    <tr>\n",
       "      <th>1</th>\n",
       "      <td>Andria</td>\n",
       "      <td>41.23</td>\n",
       "      <td>16.29</td>\n",
       "    </tr>\n",
       "    <tr>\n",
       "      <th>2</th>\n",
       "      <td>Bari</td>\n",
       "      <td>41.12</td>\n",
       "      <td>16.87</td>\n",
       "    </tr>\n",
       "    <tr>\n",
       "      <th>3</th>\n",
       "      <td>Bergamo</td>\n",
       "      <td>45.70</td>\n",
       "      <td>9.67</td>\n",
       "    </tr>\n",
       "    <tr>\n",
       "      <th>4</th>\n",
       "      <td>Bologna</td>\n",
       "      <td>44.50</td>\n",
       "      <td>11.34</td>\n",
       "    </tr>\n",
       "  </tbody>\n",
       "</table>\n",
       "</div>"
      ],
      "text/plain": [
       "      name    lat    lon\n",
       "0   Ancona  43.60  13.50\n",
       "1   Andria  41.23  16.29\n",
       "2     Bari  41.12  16.87\n",
       "3  Bergamo  45.70   9.67\n",
       "4  Bologna  44.50  11.34"
      ]
     },
     "execution_count": 32,
     "metadata": {},
     "output_type": "execute_result"
    }
   ],
   "source": [
    "#Read cities data and distance matrix\n",
    "\n",
    "CITIES = pd.read_csv('cities/italy.csv', header=None, names=['name', 'lat', 'lon'])\n",
    "DIST_MATRIX = np.zeros((len(CITIES), len(CITIES)))\n",
    "for c1, c2 in combinations(CITIES.itertuples(), 2):\n",
    "    DIST_MATRIX[c1.Index, c2.Index] = DIST_MATRIX[c2.Index, c1.Index] = geodesic(\n",
    "        (c1.lat, c1.lon), (c2.lat, c2.lon)\n",
    "    ).km\n",
    "CITIES.head()"
   ]
  },
  {
   "cell_type": "code",
   "execution_count": 33,
   "metadata": {},
   "outputs": [],
   "source": [
    "#set parameters\n",
    "population_size = 1000\n",
    "num_generations = 5000\n",
    "mutation_rate = 0.5"
   ]
  },
  {
   "cell_type": "code",
   "execution_count": 34,
   "metadata": {},
   "outputs": [],
   "source": [
    "#initial population\n",
    "def init_populations(size):\n",
    "    population = []\n",
    "    for _ in range(size):\n",
    "        individual = list(range(len(CITIES)))\n",
    "        random.shuffle(individual)\n",
    "        population.append(individual)\n",
    "    return population"
   ]
  },
  {
   "cell_type": "code",
   "execution_count": 35,
   "metadata": {},
   "outputs": [],
   "source": [
    "#try to calculate fitness for better child\n",
    "def fitness(individual):\n",
    "    distance = sum(DIST_MATRIX[individual[i]][individual[i + 1]] for i in range(len(individual) - 1))\n",
    "    distance += DIST_MATRIX[individual[-1]][individual[0]]  # return to start point\n",
    "    return 1 / distance \n",
    "    #Taking the reciprocal is a way to make sure the shorter path correspond to a higher fitness values"
   ]
  },
  {
   "cell_type": "code",
   "execution_count": 36,
   "metadata": {},
   "outputs": [],
   "source": [
    "def selection(population):\n",
    "    \n",
    "    fitness_values = [fitness(individual) for individual in population]\n",
    "    total_fitness = sum(fitness_values)\n",
    "\n",
    "    if total_fitness == 0:\n",
    "            return population\n",
    "\n",
    "    probabilities = [f / total_fitness for f in fitness_values]#so,the better child can get higher probalility\n",
    "    selected_indices = np.random.choice(len(population), size=len(population), p=probabilities)\n",
    "    selected = [population[i] for i in selected_indices]  # return individual ,or get a error 'a must be 1-dimensional '\n",
    "    return selected"
   ]
  },
  {
   "cell_type": "code",
   "execution_count": 37,
   "metadata": {},
   "outputs": [],
   "source": [
    "# crossover(I have to say,its a cool skill in basketball)\n",
    "def crossover(parent1, parent2):\n",
    "    start, end = sorted(random.sample(range(len(CITIES)), 2))\n",
    "    child = [-1] * len(CITIES)#A child list and -1 means its not filling\n",
    "    child[start:end] = parent1[start:end]\n",
    "    \n",
    "    # filling rest\n",
    "    current_pos = end\n",
    "    for city in parent2:\n",
    "        if city not in child:\n",
    "            child[current_pos] = city\n",
    "            current_pos = (current_pos + 1) % len(CITIES)#back to start\n",
    "            \n",
    "    return child\n"
   ]
  },
  {
   "cell_type": "code",
   "execution_count": 38,
   "metadata": {},
   "outputs": [],
   "source": [
    "def mutate(individual):\n",
    "    for i in range(len(CITIES)):\n",
    "        if random.random() < mutation_rate:#[0,5)\n",
    "            j = random.randint(0, len(CITIES) - 1)\n",
    "            individual[i], individual[j] = individual[j], individual[i]"
   ]
  },
  {
   "cell_type": "code",
   "execution_count": 39,
   "metadata": {},
   "outputs": [],
   "source": [
    "def genetic_algorithm():\n",
    "    \n",
    "    population = init_populations(population_size)\n",
    "    \n",
    "    for generation in range(num_generations):\n",
    "        population = selection(population)\n",
    "        next_generation = []\n",
    "\n",
    "        for i in range(0, population_size, 2):\n",
    "            parent1 = population[i]\n",
    "            # ensure not out of range\n",
    "            parent2 = population[i + 1] if i + 1 < len(population) else population[0]\n",
    "\n",
    "            child1 = crossover(parent1, parent2)  \n",
    "            child2 = crossover(parent2, parent1)  \n",
    "            mutate(child1)  \n",
    "            mutate(child2)\n",
    "\n",
    "            next_generation.extend([child1, child2])  \n",
    "\n",
    "        population = next_generation  \n",
    "\n",
    "\n",
    "    best_individual = min(population, key=lambda ind: 1 / fitness(ind))\n",
    "    best_distance = 1 / fitness(best_individual)\n",
    "    \n",
    "    return best_individual, best_distance\n",
    "\n"
   ]
  },
  {
   "cell_type": "code",
   "execution_count": 40,
   "metadata": {},
   "outputs": [
    {
     "name": "stdout",
     "output_type": "stream",
     "text": [
      "best route: ['Ravenna', \"Reggio nell'Emilia\", 'Vicenza', 'Genoa', 'Perugia', 'Prato', 'Piacenza', 'Venice', 'Bolzano', 'Milan', 'Ancona', 'Leghorn', 'Padua', 'Trento', 'Bologna', 'Trieste', 'Taranto', 'Pescara', 'Modena', 'Florence', 'Turin', 'Naples', 'Novara', 'Monza', 'Foggia', 'Giugliano in Campania', 'Bergamo', 'Rimini', 'Salerno', 'Reggio di Calabria', 'Catania', 'Cagliari', 'Brescia', 'Ferrara', 'Terni', 'Latina', 'Forlì', 'Bari', 'Andria', 'Rome', 'Syracuse', 'Palermo', 'Messina', 'Parma', 'Verona', 'Sassari']\n",
      "best distance: 14819.985252179014\n"
     ]
    }
   ],
   "source": [
    "best_path, best_distance = genetic_algorithm()\n",
    "\n",
    "best_path_cities = CITIES.iloc[best_path]['name'].tolist()\n",
    "print(\"best route:\", best_path_cities)\n",
    "print(\"best distance:\", best_distance)"
   ]
  }
 ],
 "metadata": {
  "kernelspec": {
   "display_name": "ci2024-lab2-tGN2fnp2-py3.11",
   "language": "python",
   "name": "python3"
  },
  "language_info": {
   "codemirror_mode": {
    "name": "ipython",
    "version": 3
   },
   "file_extension": ".py",
   "mimetype": "text/x-python",
   "name": "python",
   "nbconvert_exporter": "python",
   "pygments_lexer": "ipython3",
   "version": "3.11.7"
  }
 },
 "nbformat": 4,
 "nbformat_minor": 2
}
